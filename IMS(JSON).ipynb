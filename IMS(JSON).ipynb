{
 "cells": [
  {
   "cell_type": "code",
   "execution_count": 15,
   "id": "8fb88be1-2d9d-4ca1-9236-769e8b7ffd06",
   "metadata": {},
   "outputs": [
    {
     "name": "stdout",
     "output_type": "stream",
     "text": [
      "------------------MENU------------------\n",
      "\n",
      "1001     : 5 Star     | 10     | 65\n",
      "1002     : Bar-One     | 20     | 89\n",
      "1003     : Candy     | 2     | 754\n",
      "1004     : Choclate Cake     | 550     | 103\n",
      "1005     : Blueberry Cake     | 650     | 93\n",
      "----------------------------------------\n",
      "\n"
     ]
    },
    {
     "name": "stdin",
     "output_type": "stream",
     "text": [
      "Pleaase enter your name : Kokila\n",
      "Please enter your mail id : koki@gmail.com\n",
      "Please enter your phone number : 12345643234\n",
      "Enter Product ID:  1004\n",
      "Enter Quantity  :  3\n"
     ]
    },
    {
     "name": "stdout",
     "output_type": "stream",
     "text": [
      "---------------------------------------\n",
      "                 BILL                  \n",
      "\n",
      "name             :  Choclate Cake\n",
      "Price            :₹ 550\n",
      "Quantity         :  3\n",
      "----------------------------------------\n",
      "Billing Amount   :₹ 1650\n",
      "----------------------------------------\n"
     ]
    }
   ],
   "source": [
    "import time\n",
    "import json\n",
    "\n",
    "fd = open(\"record.json\",\"r\")\n",
    "js = fd.read()\n",
    "fd.close()\n",
    "\n",
    "record = json.loads(js)\n",
    "\n",
    "\n",
    "print(\"------------------MENU------------------\\n\")\n",
    "\n",
    "for key in record.keys():\n",
    "    print(key, \"    :\", record[key][\"name\"], \"    |\", record[key][\"Price\"],\"    |\", record[key][\"Quantity\"])\n",
    "print(\"----------------------------------------\\n\")\n",
    "\n",
    "name = input(\"Pleaase enter your name :\")\n",
    "email = input(\"Please enter your mail id :\")\n",
    "phone_num = input(\"Please enter your phone number :\")\n",
    "prod = str(input(\"Enter Product ID: \"))\n",
    "quan = int(input(\"Enter Quantity  : \"))\n",
    "\n",
    "if record[prod][\"Quantity\"] >= quan:\n",
    "\n",
    "    record[prod][\"Quantity\"] =  record[prod][\"Quantity\"] - quan\n",
    "    \n",
    "    print(\"---------------------------------------\")\n",
    "    print(\"                 BILL                  \\n\")\n",
    "    \n",
    "    print(\"name             : \",record[prod][\"name\"])\n",
    "    print(\"Price            :₹\",record[prod][\"Price\"])\n",
    "    print(\"Quantity         : \",quan)\n",
    "    \n",
    "    print(\"----------------------------------------\")\n",
    "    print(\"Billing Amount   :₹\",record[prod][\"Price\"]*quan)\n",
    "    print(\"----------------------------------------\")\n",
    "    sale = name +\",\" + email+\",\" + phone_num +\",\"+prod +\",\" +record[prod][\"name\"] +\",\"+ str(quan) +\",\"+str(record[prod][\"Price\"]*quan) +\",\"+time.ctime() +\"\\n\"\n",
    "    fd = open(\"sales.txt\",\"a\")\n",
    "    fd.write(sale)\n",
    "    fd.close()\n",
    "elif record[prod][\"Quantity\"] > 0:\n",
    "\n",
    "    print(\"Sorry We are not having Enfough Quantity\")\n",
    "    print(\"We are having only\", record[prod][\"Quantity\"],'quantity')\n",
    "    ch = input(\"Press Y/y to purchase: \")\n",
    "    if ch == \"Y\" or \"y\":\n",
    "        \n",
    "        print(\"---------------------------------------\")\n",
    "        print(\"                 BILL                  \\n\")\n",
    "        \n",
    "        print(\"name             : \",record[prod][\"name\"])\n",
    "        print(\"Price            :₹\",record[prod][\"Price\"])\n",
    "        print(\"Quantity         : \",record[prod][\"Quantity\"])\n",
    "        \n",
    "        print(\"----------------------------------------\")\n",
    "        print(\"Billing Amount   :₹\",record[prod][\"Price\"]*record[prod][\"Quantity\"])\n",
    "        print(\"----------------------------------------\")   \n",
    "\n",
    "        sale = name +\",\" + email+\",\" + phone_num +\",\"+prod +\",\" +record[prod][\"name\"] +\",\"+ str(record[prod][\"Quantity\"]) +\",\"+str(record[prod][\"Price\"]*record[prod][\"Quantity\"]) +\",\"+time.ctime() + \"\\n\"\n",
    "        fd = open(\"sales.txt\",\"a\")\n",
    "        fd.write(sale)\n",
    "        fd.close()        \n",
    "        record[prod][\"Quantity\"] = 0\n",
    "    else:\n",
    "        print(\"Thank You\")\n",
    "else:\n",
    "    print(\"Sorry Product is not availabe at the moment\")\n",
    "\n",
    "js = json.dumps(record)\n",
    "fd = open(\"record.json\",\"w\")\n",
    "fd.write(js)\n",
    "fd.close()"
   ]
  },
  {
   "cell_type": "code",
   "execution_count": null,
   "id": "5dc4ac79-a047-4837-a822-ed414b9ee902",
   "metadata": {},
   "outputs": [],
   "source": []
  }
 ],
 "metadata": {
  "kernelspec": {
   "display_name": "Python [conda env:base] *",
   "language": "python",
   "name": "conda-base-py"
  },
  "language_info": {
   "codemirror_mode": {
    "name": "ipython",
    "version": 3
   },
   "file_extension": ".py",
   "mimetype": "text/x-python",
   "name": "python",
   "nbconvert_exporter": "python",
   "pygments_lexer": "ipython3",
   "version": "3.13.5"
  }
 },
 "nbformat": 4,
 "nbformat_minor": 5
}
